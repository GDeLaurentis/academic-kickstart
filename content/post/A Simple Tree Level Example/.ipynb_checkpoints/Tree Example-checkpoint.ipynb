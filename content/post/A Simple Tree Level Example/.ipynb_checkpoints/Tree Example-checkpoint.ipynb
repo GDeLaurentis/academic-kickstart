{
 "cells": [
  {
   "cell_type": "markdown",
   "metadata": {},
   "source": [
    "# A Simple Tree Example"
   ]
  },
  {
   "cell_type": "code",
   "execution_count": 1,
   "metadata": {
    "code_folding": [
     0
    ]
   },
   "outputs": [],
   "source": [
    "# Initialisations\n",
    "from __future__ import unicode_literals\n",
    "from __future__ import print_function\n",
    "\n",
    "import sys\n",
    "import os\n",
    "from sympy import pprint\n",
    "from copy import deepcopy\n",
    "\n",
    "import gmpTools\n",
    "\n",
    "from antares.core.settings import settings\n",
    "from antares.core.unknown import Unknown, BHUnknown\n",
    "from antares.particles.particles import Particles"
   ]
  },
  {
   "cell_type": "code",
   "execution_count": 2,
   "metadata": {},
   "outputs": [],
   "source": [
    "oTree = BHUnknown(helconf=\"pmpmpm\", amppart=\"tree\")\n",
    "oUnknown = Unknown(oTree, load_partial_results=False, silent=True)"
   ]
  },
  {
   "cell_type": "markdown",
   "metadata": {},
   "source": [
    "Scalings"
   ]
  },
  {
   "cell_type": "code",
   "execution_count": 3,
   "metadata": {
    "scrolled": true
   },
   "outputs": [
    {
     "name": "stdout",
     "output_type": "stream",
     "text": [
      "Finished calculating single scalings. The partial result is:                                                              \n",
      "/⟨1|2⟩[1|2]⟨1|6⟩[1|6]⟨2|3⟩[2|3]⟨3|4⟩[3|4]⟨4|5⟩[4|5]⟨5|6⟩[5|6]s_123s_234s_345\n",
      "\n",
      "The mass dimension of the unknown is -2.\n",
      "The phase weights of the unknown are [-2, 2, -2, 2, -2, 2].\n",
      "The mass dimension of the new unknown is 16.\n",
      "The phase weights of the new unknown are [-2, 2, -2, 2, -2, 2].\n",
      "\n",
      "Finished calculating pair scalings. They are:                                                                      \n",
      "[⟨1|2⟩, [1|2]]: 1.0, 2  → 2\n",
      "[⟨1|2⟩, ⟨1|6⟩]: 1.0, 30 → 5\n",
      "[⟨1|2⟩, [1|6]]: 1.0, 3  → 2\n",
      "[⟨1|2⟩, ⟨2|3⟩]: 1.0, 31 → 5\n",
      "[⟨1|2⟩, [2|3]]: 1.0, 3  → 2\n",
      "[⟨1|2⟩, ⟨3|4⟩]: 1.0, 2  → 2\n",
      "[⟨1|2⟩, [3|4]]: 2.0, 12 → 3\n",
      "[⟨1|2⟩, ⟨4|5⟩]: 1.0, 10 → 2\n",
      "[⟨1|2⟩, [4|5]]: 2.0, 3  → 2\n",
      "[⟨1|2⟩, ⟨5|6⟩]: 1.0, 2  → 2\n",
      "[⟨1|2⟩, [5|6]]: 2.0, 12 → 3\n",
      "[⟨1|2⟩, s_123]: 2.0, 10 → 3\n",
      "[⟨1|2⟩, s_234]: 1.0, 2  → 2\n",
      "[⟨1|2⟩, s_345]: 2.0, 10 → 3\n",
      "[[1|2], ⟨1|6⟩]: 1.0, 3  → 2\n",
      "[[1|2], [1|6]]: 1.0, 31 → 5\n",
      "[[1|2], ⟨2|3⟩]: 1.0, 3  → 2\n",
      "[[1|2], [2|3]]: 1.0, 30 → 5\n",
      "[[1|2], ⟨3|4⟩]: 2.0, 12 → 3\n",
      "[[1|2], [3|4]]: 1.0, 2  → 2\n",
      "[[1|2], ⟨4|5⟩]: 2.0, 3  → 2\n",
      "[[1|2], [4|5]]: 1.0, 10 → 2\n",
      "[[1|2], ⟨5|6⟩]: 2.0, 12 → 3\n",
      "[[1|2], [5|6]]: 1.0, 2  → 2\n",
      "[[1|2], s_123]: 2.0, 10 → 3\n",
      "[[1|2], s_234]: 1.0, 2  → 2\n",
      "[[1|2], s_345]: 2.0, 10 → 3\n",
      "[⟨1|6⟩, [1|6]]: 1.0, 2  → 2\n",
      "[⟨1|6⟩, ⟨2|3⟩]: 1.0, 2  → 2\n",
      "[⟨1|6⟩, [2|3]]: 2.0, 12 → 3\n",
      "[⟨1|6⟩, ⟨3|4⟩]: 1.0, 10 → 2\n",
      "[⟨1|6⟩, [3|4]]: 2.0, 4  → 2\n",
      "[⟨1|6⟩, ⟨4|5⟩]: 1.0, 2  → 2\n",
      "[⟨1|6⟩, [4|5]]: 2.0, 12 → 3\n",
      "[⟨1|6⟩, ⟨5|6⟩]: 1.0, 31 → 5\n",
      "[⟨1|6⟩, [5|6]]: 1.0, 3  → 2\n",
      "[⟨1|6⟩, s_123]: 1.0, 2  → 2\n",
      "[⟨1|6⟩, s_234]: 2.0, 10 → 3\n",
      "[⟨1|6⟩, s_345]: 2.0, 10 → 3\n",
      "[[1|6], ⟨2|3⟩]: 2.0, 12 → 3\n",
      "[[1|6], [2|3]]: 1.0, 2  → 2\n",
      "[[1|6], ⟨3|4⟩]: 2.0, 4  → 2\n",
      "[[1|6], [3|4]]: 1.0, 10 → 2\n",
      "[[1|6], ⟨4|5⟩]: 2.0, 12 → 3\n",
      "[[1|6], [4|5]]: 1.0, 2  → 2\n",
      "[[1|6], ⟨5|6⟩]: 1.0, 3  → 2\n",
      "[[1|6], [5|6]]: 1.0, 30 → 5\n",
      "[[1|6], s_123]: 1.0, 2  → 2\n",
      "[[1|6], s_234]: 2.0, 10 → 3\n",
      "[[1|6], s_345]: 2.0, 10 → 3\n",
      "[⟨2|3⟩, [2|3]]: 1.0, 2  → 2\n",
      "[⟨2|3⟩, ⟨3|4⟩]: 1.0, 30 → 5\n",
      "[⟨2|3⟩, [3|4]]: 1.0, 3  → 2\n",
      "[⟨2|3⟩, ⟨4|5⟩]: 1.0, 2  → 2\n",
      "[⟨2|3⟩, [4|5]]: 2.0, 12 → 3\n",
      "[⟨2|3⟩, ⟨5|6⟩]: 1.0, 10 → 2\n",
      "[⟨2|3⟩, [5|6]]: 2.0, 3  → 2\n",
      "[⟨2|3⟩, s_123]: 2.0, 10 → 3\n",
      "[⟨2|3⟩, s_234]: 2.0, 10 → 3\n",
      "[⟨2|3⟩, s_345]: 1.0, 2  → 2\n",
      "[[2|3], ⟨3|4⟩]: 1.0, 3  → 2\n",
      "[[2|3], [3|4]]: 1.0, 31 → 5\n",
      "[[2|3], ⟨4|5⟩]: 2.0, 12 → 3\n",
      "[[2|3], [4|5]]: 1.0, 2  → 2\n",
      "[[2|3], ⟨5|6⟩]: 2.0, 3  → 2\n",
      "[[2|3], [5|6]]: 1.0, 10 → 2\n",
      "[[2|3], s_123]: 2.0, 10 → 3\n",
      "[[2|3], s_234]: 2.0, 10 → 3\n",
      "[[2|3], s_345]: 1.0, 2  → 2\n",
      "[⟨3|4⟩, [3|4]]: 1.0, 2  → 2\n",
      "[⟨3|4⟩, ⟨4|5⟩]: 1.0, 31 → 5\n",
      "[⟨3|4⟩, [4|5]]: 1.0, 3  → 2\n",
      "[⟨3|4⟩, ⟨5|6⟩]: 1.0, 2  → 2\n",
      "[⟨3|4⟩, [5|6]]: 2.0, 12 → 3\n",
      "[⟨3|4⟩, s_123]: 1.0, 2  → 2\n",
      "[⟨3|4⟩, s_234]: 2.0, 10 → 3\n",
      "[⟨3|4⟩, s_345]: 2.0, 10 → 3\n",
      "[[3|4], ⟨4|5⟩]: 1.0, 3  → 2\n",
      "[[3|4], [4|5]]: 1.0, 30 → 5\n",
      "[[3|4], ⟨5|6⟩]: 2.0, 12 → 3\n",
      "[[3|4], [5|6]]: 1.0, 2  → 2\n",
      "[[3|4], s_123]: 1.0, 2  → 2\n",
      "[[3|4], s_234]: 2.0, 10 → 3\n",
      "[[3|4], s_345]: 2.0, 10 → 3\n",
      "[⟨4|5⟩, [4|5]]: 1.0, 2  → 2\n",
      "[⟨4|5⟩, ⟨5|6⟩]: 1.0, 30 → 5\n",
      "[⟨4|5⟩, [5|6]]: 1.0, 3  → 2\n",
      "[⟨4|5⟩, s_123]: 2.0, 10 → 3\n",
      "[⟨4|5⟩, s_234]: 1.0, 2  → 2\n",
      "[⟨4|5⟩, s_345]: 2.0, 10 → 3\n",
      "[[4|5], ⟨5|6⟩]: 1.0, 3  → 2\n",
      "[[4|5], [5|6]]: 1.0, 31 → 5\n",
      "[[4|5], s_123]: 2.0, 10 → 3\n",
      "[[4|5], s_234]: 1.0, 2  → 2\n",
      "[[4|5], s_345]: 2.0, 10 → 3\n",
      "[⟨5|6⟩, [5|6]]: 1.0, 2  → 2\n",
      "[⟨5|6⟩, s_123]: 2.0, 10 → 3\n",
      "[⟨5|6⟩, s_234]: 2.0, 10 → 3\n",
      "[⟨5|6⟩, s_345]: 1.0, 2  → 2\n",
      "[[5|6], s_123]: 2.0, 10 → 3\n",
      "[[5|6], s_234]: 2.0, 10 → 3\n",
      "[[5|6], s_345]: 1.0, 2  → 2\n",
      "[s_123, s_234]: 1.0, 2  → 2\n",
      "[s_123, s_345]: 1.0, 2  → 2\n",
      "[s_234, s_345]: 1.0, 2  → 2\n",
      "\n"
     ]
    }
   ],
   "source": [
    "oUnknown.do_single_collinear_limits()\n",
    "oUnknown.do_double_collinear_limits()"
   ]
  },
  {
   "cell_type": "markdown",
   "metadata": {},
   "source": [
    "Partial Fractioning"
   ]
  },
  {
   "cell_type": "code",
   "execution_count": null,
   "metadata": {},
   "outputs": [
    {
     "name": "stdout",
     "output_type": "stream",
     "text": [
      "[s_123, s_234, s_345, ⟨1|2⟩, [1|2], ⟨1|6⟩, [1|6], ⟨2|3⟩, [2|3], ⟨3|4⟩, [3|4], ⟨4|5⟩, [4|5], ⟨5|6⟩, [5|6]]\n",
      "Forced: \n",
      "[]\n",
      "Forbidden: \n",
      "[⟨1|6⟩, [1|6], ⟨3|4⟩, [3|4], s_234, s_345]\n",
      "Optional: \n",
      "[(⟨5|6⟩, ⟨1|(2+3)|4]), ([4|5], ⟨6|(1+2)|3]), (⟨4|5⟩, ⟨3|(1+2)|6]), (⟨1|2⟩, ⟨6|(1+2)|3]), ([2|3], ⟨1|(2+3)|4]), (⟨2|3⟩, ⟨4|(2+3)|1]), ([5|6], ⟨4|(2+3)|1]), ([1|2], ⟨3|(1+2)|6])]\n",
      "\n",
      "                                                                                                                                                                       \n",
      "There are 11 symmetries:                 \n",
      "[(165432, False), (216543, True), (234561, True), (321654, False), (345612, False), (432165, True), (456123, True), (543216, False), (561234, False), (612345, True), (654321, True)]\n"
     ]
    }
   ],
   "source": [
    "invariants = oUnknown.poles_to_be_eliminated\n",
    "print(\"Poles to be  eliminated:\")\n",
    "pprint(invariants)\n",
    "print(\"\")\n",
    "lTerms = oUnknown.get_partial_fractioned_terms(invariants[0])"
   ]
  },
  {
   "cell_type": "markdown",
   "metadata": {},
   "source": [
    "Numerator Fitting"
   ]
  },
  {
   "cell_type": "code",
   "execution_count": null,
   "metadata": {},
   "outputs": [],
   "source": [
    "oTerms = lTerms[0]\n",
    "oTerms.fit_numerators()"
   ]
  },
  {
   "cell_type": "code",
   "execution_count": null,
   "metadata": {},
   "outputs": [],
   "source": [
    "print(oTerms)"
   ]
  },
  {
   "cell_type": "code",
   "execution_count": null,
   "metadata": {},
   "outputs": [],
   "source": [
    "oParticles = Particles(6)\n",
    "oParticles.fix_mom_cons()\n",
    "assert(abs(oTerms(oParticles) - oTree(oParticles)) < 10 ** -280)"
   ]
  }
 ],
 "metadata": {
  "kernelspec": {
   "display_name": "Python 2",
   "language": "python",
   "name": "python2"
  },
  "language_info": {
   "codemirror_mode": {
    "name": "ipython",
    "version": 2
   },
   "file_extension": ".py",
   "mimetype": "text/x-python",
   "name": "python",
   "nbconvert_exporter": "python",
   "pygments_lexer": "ipython2",
   "version": "2.7.12"
  }
 },
 "nbformat": 4,
 "nbformat_minor": 2
}
